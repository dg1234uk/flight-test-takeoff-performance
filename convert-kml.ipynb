{
 "cells": [
  {
   "cell_type": "markdown",
   "metadata": {},
   "source": [
    "# Convert KML to Data Frame and CSV"
   ]
  },
  {
   "cell_type": "code",
   "execution_count": 9,
   "metadata": {},
   "outputs": [
    {
     "name": "stdout",
     "output_type": "stream",
     "text": [
      "Data from ./data/kml/5Nov24-flight1.kml saved to ./data/csv/5Nov24-flight1.csv\n",
      "Data from ./data/kml/6Nov24-flight2.kml saved to ./data/csv/6Nov24-flight2.csv\n",
      "Data from ./data/kml/6Nov24-flight3.kml saved to ./data/csv/6Nov24-flight3.csv\n",
      "Data from ./data/kml/6Nov24-flight4.kml saved to ./data/csv/6Nov24-flight4.csv\n",
      "Data from ./data/kml/7Nov24-flight5.kml saved to ./data/csv/7Nov24-flight5.csv\n"
     ]
    }
   ],
   "source": [
    "import xml.etree.ElementTree as ET\n",
    "import pandas as pd\n",
    "\n",
    "# Define namespaces\n",
    "namespace = {\n",
    "    \"kml\": \"http://www.opengis.net/kml/2.2\",\n",
    "    \"gx\": \"http://www.google.com/kml/ext/2.2\",\n",
    "}\n",
    "\n",
    "def parse_kml_to_dataframe(kml_file_path):\n",
    "    \"\"\"\n",
    "    Parses a KML file and returns a DataFrame with track and extended data.\n",
    "\n",
    "    Parameters:\n",
    "    - kml_file_path (str): Path to the KML file to parse.\n",
    "\n",
    "    Returns:\n",
    "    - pd.DataFrame: DataFrame containing the parsed track and extended data.\n",
    "    \"\"\"\n",
    "    # Parse the XML file\n",
    "    tree = ET.parse(kml_file_path)\n",
    "    root = tree.getroot()\n",
    "\n",
    "    # Initialize a list to store the track data\n",
    "    track_data = []\n",
    "\n",
    "    # Extract extended data if present (assuming a single ExtendedData for the document)\n",
    "    extended_values = {}\n",
    "    extended_data = root.find(\".//kml:ExtendedData/kml:SchemaData\", namespaces=namespace)\n",
    "    if extended_data is not None:\n",
    "        for array_data in extended_data.findall(\"gx:SimpleArrayData\", namespaces=namespace):\n",
    "            name = array_data.get(\"name\")\n",
    "            values = [float(value.text) for value in array_data.findall(\"gx:value\", namespaces=namespace)]\n",
    "            extended_values[name] = values\n",
    "\n",
    "    # Find all Placemark elements with gx:Track children\n",
    "    for placemark in root.findall(\".//kml:Placemark\", namespaces=namespace):\n",
    "        track = placemark.find(\"gx:Track\", namespaces=namespace)\n",
    "        if track is not None:\n",
    "            # Extract timestamps and coordinates\n",
    "            timestamps = [when.text for when in track.findall(\"kml:when\", namespaces=namespace)]\n",
    "            coords = [coord.text for coord in track.findall(\"gx:coord\", namespaces=namespace)]\n",
    "\n",
    "            # Pair each timestamp with its corresponding coordinates and indexed extended data\n",
    "            for index, (time, coord) in enumerate(zip(timestamps, coords)):\n",
    "                lon, lat, alt = map(float, coord.split())\n",
    "                data_entry = {\n",
    "                    \"timestamp\": time,\n",
    "                    \"latitude\": lat,\n",
    "                    \"longitude\": lon,\n",
    "                    \"altitude_m\": alt,\n",
    "                    \"acc_horiz\": extended_values.get(\"acc_horiz\", [None])[index] if \"acc_horiz\" in extended_values else None,\n",
    "                    \"acc_vert\": extended_values.get(\"acc_vert\", [None])[index] if \"acc_vert\" in extended_values else None,\n",
    "                    \"course\": extended_values.get(\"course\", [None])[index] if \"course\" in extended_values else None,\n",
    "                    \"speed_kts\": extended_values.get(\"speed_kts\", [None])[index] if \"speed_kts\" in extended_values else None,\n",
    "                    \"altitude_ft\": extended_values.get(\"altitude\", [None])[index] if \"altitude\" in extended_values else None,\n",
    "                    \"bank\": extended_values.get(\"bank\", [None])[index] if \"bank\" in extended_values else None,\n",
    "                    \"pitch\": extended_values.get(\"pitch\", [None])[index] if \"pitch\" in extended_values else None,\n",
    "                }\n",
    "                track_data.append(data_entry)\n",
    "\n",
    "    # Convert to a DataFrame\n",
    "    df = pd.DataFrame(track_data)\n",
    "    return df\n",
    "\n",
    "# List of KML file paths\n",
    "file_paths = [\"./data/kml/5Nov24-flight1.kml\", \"./data/kml/6Nov24-flight2.kml\", \"./data/kml/6Nov24-flight3.kml\", \"./data/kml/6Nov24-flight4.kml\", \"./data/kml/7Nov24-flight5.kml\"]\n",
    "for file_path in file_paths:\n",
    "    df = parse_kml_to_dataframe(file_path)\n",
    "    output_csv_path = file_path.replace(\".kml\", \".csv\").replace(\"/kml/\", \"/csv/\")\n",
    "    df.to_csv(output_csv_path, index=False)\n",
    "    print(f\"Data from {file_path} saved to {output_csv_path}\")\n"
   ]
  },
  {
   "cell_type": "code",
   "execution_count": 10,
   "metadata": {},
   "outputs": [],
   "source": [
    "# # Display or save the DataFrame\n",
    "# df"
   ]
  }
 ],
 "metadata": {
  "kernelspec": {
   "display_name": "py-flight-test",
   "language": "python",
   "name": "python3"
  },
  "language_info": {
   "codemirror_mode": {
    "name": "ipython",
    "version": 3
   },
   "file_extension": ".py",
   "mimetype": "text/x-python",
   "name": "python",
   "nbconvert_exporter": "python",
   "pygments_lexer": "ipython3",
   "version": "3.12.2"
  }
 },
 "nbformat": 4,
 "nbformat_minor": 2
}
